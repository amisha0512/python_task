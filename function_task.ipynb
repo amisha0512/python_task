{
 "cells": [
  {
   "cell_type": "code",
   "execution_count": 1,
   "id": "17f11acd-b52e-4984-8fd7-7638fcf5f330",
   "metadata": {},
   "outputs": [
    {
     "name": "stdout",
     "output_type": "stream",
     "text": [
      "This is a dictionary\n",
      "{'fruit1': 'Apple', 'fruit2': 'Mango', 'fruit3': 'Orange'}\n"
     ]
    }
   ],
   "source": [
    "print('This is a dictionary')\n",
    "\n",
    "def dictName(val1,val2,val3):\n",
    "    join_Name = f'{val1}{val2}{val3}'\n",
    "    result = {\n",
    "         'fruit1': val1,\n",
    "         'fruit2': val2,\n",
    "         'fruit3': val3\n",
    "    }\n",
    "    return result\n",
    "\n",
    "\n",
    "val1 = \"Apple\"\n",
    "val2 = \"Mango\"\n",
    "val3 = \"Orange\"\n",
    "output = dictName(val1,val2,val3)\n",
    "\n",
    "\n",
    "print(output)"
   ]
  }
 ],
 "metadata": {
  "kernelspec": {
   "display_name": "Python 3 (ipykernel)",
   "language": "python",
   "name": "python3"
  },
  "language_info": {
   "codemirror_mode": {
    "name": "ipython",
    "version": 3
   },
   "file_extension": ".py",
   "mimetype": "text/x-python",
   "name": "python",
   "nbconvert_exporter": "python",
   "pygments_lexer": "ipython3",
   "version": "3.11.7"
  }
 },
 "nbformat": 4,
 "nbformat_minor": 5
}
