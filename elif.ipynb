{
 "cells": [
  {
   "cell_type": "code",
   "execution_count": 1,
   "id": "9c985294-5cd3-4f29-a1c0-0e7e86222c6d",
   "metadata": {},
   "outputs": [
    {
     "name": "stdout",
     "output_type": "stream",
     "text": [
      "hello world\n"
     ]
    }
   ],
   "source": [
    "def join_text(*args,seprator=\" \"):\n",
    "    return seprator.join(args)\n",
    "\n",
    "text1 = 'hello'\n",
    "text2 = 'world'\n",
    "\n",
    "joined_text = join_text(text1,text2)\n",
    "print(joined_text)"
   ]
  },
  {
   "cell_type": "markdown",
   "id": "52a52a0d-7ae2-4a94-a2a5-42b32960efeb",
   "metadata": {},
   "source": [
    "# Trim text"
   ]
  },
  {
   "cell_type": "code",
   "execution_count": 3,
   "id": "dee26dea-a1f5-4d6a-aaf1-513b1e1e9479",
   "metadata": {},
   "outputs": [
    {
     "name": "stdout",
     "output_type": "stream",
     "text": [
      "  beautiful\n"
     ]
    }
   ],
   "source": [
    "def trim(text, side= 'both'):\n",
    "    if (side =='both'):\n",
    "        return text.strip()\n",
    "    elif(side =='left'):\n",
    "        return text.lstrip()\n",
    "    elif(side =='right'):\n",
    "        return text.rstrip()\n",
    "    else:\n",
    "        return \"choose correct trim\"\n",
    "\n",
    "text= \"  beautiful\"\n",
    "trimmed_text = trim(text, 'right')\n",
    "print(trimmed_text)"
   ]
  },
  {
   "cell_type": "markdown",
   "id": "80abe763-e2b0-4fcf-9e26-264177213de3",
   "metadata": {},
   "source": [
    "# Substitute text"
   ]
  },
  {
   "cell_type": "code",
   "execution_count": 7,
   "id": "432100c2-870d-4cb4-b1db-dd4754501134",
   "metadata": {},
   "outputs": [
    {
     "name": "stdout",
     "output_type": "stream",
     "text": [
      "i am reading a book\n",
      "\n",
      "i am reading a novel\n"
     ]
    }
   ],
   "source": [
    "def substitute(text,old_string, new_string):\n",
    "    return text.replace(old_string,new_string)\n",
    "\n",
    "orignal_text = \"i am reading a book\"\n",
    "old_text = \"book\"\n",
    "new_text = \"novel\"\n",
    "\n",
    "substituted_text = substitute(orignal_text,old_text,new_text)\n",
    "\n",
    "print(orignal_text)\n",
    "print()\n",
    "print(substituted_text)"
   ]
  },
  {
   "cell_type": "markdown",
   "id": "39d581ca-69f3-4caa-8184-cd10c4cf5882",
   "metadata": {},
   "source": [
    "# Cut text"
   ]
  },
  {
   "cell_type": "code",
   "execution_count": 8,
   "id": "a1a21213-d54d-4d25-8a49-38b6ace241a5",
   "metadata": {},
   "outputs": [
    {
     "name": "stdout",
     "output_type": "stream",
     "text": [
      "\n",
      "i love \n"
     ]
    }
   ],
   "source": [
    "def cut_text(text, max_length):\n",
    "    if len(text)<= max_length:\n",
    "        return text\n",
    "    else:\n",
    "        return text[:max_length]\n",
    "\n",
    "original_text = \"i love india\"\n",
    "cut_text_result = cut_text(original_text, 7)\n",
    "print()\n",
    "print(cut_text_result)"
   ]
  },
  {
   "cell_type": "code",
   "execution_count": null,
   "id": "e674605f-e027-418f-bce7-d02ccdff1428",
   "metadata": {},
   "outputs": [],
   "source": []
  }
 ],
 "metadata": {
  "kernelspec": {
   "display_name": "Python 3 (ipykernel)",
   "language": "python",
   "name": "python3"
  },
  "language_info": {
   "codemirror_mode": {
    "name": "ipython",
    "version": 3
   },
   "file_extension": ".py",
   "mimetype": "text/x-python",
   "name": "python",
   "nbconvert_exporter": "python",
   "pygments_lexer": "ipython3",
   "version": "3.11.7"
  }
 },
 "nbformat": 4,
 "nbformat_minor": 5
}
