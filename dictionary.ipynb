{
 "cells": [
  {
   "cell_type": "markdown",
   "id": "7d30fa54-a037-4be6-ae67-63ba0fd419a3",
   "metadata": {},
   "source": [
    "# Dictionary"
   ]
  },
  {
   "cell_type": "markdown",
   "id": "fac3776f-c195-4a4e-9b55-9c0a5622dce0",
   "metadata": {},
   "source": [
    "### A dictionary is a kind of data structure that stores items in key-value pairs. A key is a unique identifier for an item, and a value is the data associated with that key."
   ]
  },
  {
   "cell_type": "markdown",
   "id": "fcfb8906-ed9d-4ffc-954c-64a9ccda2ea4",
   "metadata": {},
   "source": [
    "# Copy"
   ]
  },
  {
   "cell_type": "markdown",
   "id": "32c4ec63-d3a8-46f0-bf6a-d1ce3b1e2391",
   "metadata": {},
   "source": [
    "### This methods Returns a shallow copy of the dictionary."
   ]
  },
  {
   "cell_type": "code",
   "execution_count": 4,
   "id": "c4f127b2-bfe7-4d45-bfe6-da080ac9fe43",
   "metadata": {},
   "outputs": [
    {
     "data": {
      "text/plain": [
       "{'chennai', 'jaipur', 'mumbai', 'nagpur', 'pune'}"
      ]
     },
     "execution_count": 4,
     "metadata": {},
     "output_type": "execute_result"
    }
   ],
   "source": [
    "city = {'pune','nagpur','mumbai','chennai','jaipur'}\n",
    "city"
   ]
  },
  {
   "cell_type": "code",
   "execution_count": 5,
   "id": "664a6bcb-fa4f-4d9f-b969-2f57ecc50d50",
   "metadata": {},
   "outputs": [
    {
     "data": {
      "text/plain": [
       "{'chennai', 'jaipur', 'mumbai', 'nagpur', 'pune'}"
      ]
     },
     "execution_count": 5,
     "metadata": {},
     "output_type": "execute_result"
    }
   ],
   "source": [
    "city.copy()\n",
    "city"
   ]
  },
  {
   "cell_type": "markdown",
   "id": "f07e513b-b90c-425c-9ab2-d879d2986072",
   "metadata": {},
   "source": [
    "# clear"
   ]
  },
  {
   "cell_type": "markdown",
   "id": "85cd97ff-beb4-4013-b52e-2a309ee6ddd9",
   "metadata": {},
   "source": [
    "### These methods Removes all elements from the dictionary."
   ]
  },
  {
   "cell_type": "code",
   "execution_count": 6,
   "id": "ca07b699-47e5-44e4-a59b-0f79cff042fb",
   "metadata": {},
   "outputs": [
    {
     "data": {
      "text/plain": [
       "{'b1': 40, 'c1': '50', 'd1': 60, 'e1': 70}"
      ]
     },
     "execution_count": 6,
     "metadata": {},
     "output_type": "execute_result"
    }
   ],
   "source": [
    "a1 = {'b1':40,'c1':'50','d1':60,'e1':70}\n",
    "a1"
   ]
  },
  {
   "cell_type": "code",
   "execution_count": 7,
   "id": "726ac615-5ab2-4ae1-9f52-6d93d1e781fe",
   "metadata": {},
   "outputs": [
    {
     "data": {
      "text/plain": [
       "{}"
      ]
     },
     "execution_count": 7,
     "metadata": {},
     "output_type": "execute_result"
    }
   ],
   "source": [
    "a1.clear()\n",
    "a1"
   ]
  },
  {
   "cell_type": "markdown",
   "id": "f1cdd645-971b-4c3d-a6da-699743a2cc70",
   "metadata": {},
   "source": [
    "# Fromkeys"
   ]
  },
  {
   "cell_type": "markdown",
   "id": "5dc74ac8-bfe0-4331-98ed-518b61b28068",
   "metadata": {},
   "source": [
    "### Returns a dictionary with the specified keys and values."
   ]
  },
  {
   "cell_type": "code",
   "execution_count": 13,
   "id": "4eb0cc71-edb6-49f6-8760-13a556257869",
   "metadata": {},
   "outputs": [
    {
     "name": "stdout",
     "output_type": "stream",
     "text": [
      "{'xyz1': 20, 'xyz2': 20, 'xyz3': 20, 'xyz4': 20, 'xyz5': 20}\n"
     ]
    }
   ],
   "source": [
    "a1 = {'xyz1','xyz2','xyz3','xyz4','xyz5'}\n",
    "b1 = 20\n",
    "ab = dict.fromkeys(a1,b1)\n",
    "print(ab)"
   ]
  },
  {
   "cell_type": "markdown",
   "id": "503f0056-954e-48a2-bf75-9e87cfde69a7",
   "metadata": {},
   "source": [
    "# Get"
   ]
  },
  {
   "cell_type": "markdown",
   "id": "a8cead8f-17aa-4917-bd05-6795cf853b27",
   "metadata": {},
   "source": [
    "### The get method return the value of the item with the specified keys."
   ]
  },
  {
   "cell_type": "code",
   "execution_count": 1,
   "id": "d01847e2-6e10-4064-a52d-c9bad06dbc48",
   "metadata": {},
   "outputs": [
    {
     "data": {
      "text/plain": [
       "'tata nexon EV'"
      ]
     },
     "execution_count": 1,
     "metadata": {},
     "output_type": "execute_result"
    }
   ],
   "source": [
    "car = {'brand':'TATA','model':'tata nexon EV','year':2020}\n",
    "car = car.get('model')\n",
    "car\n"
   ]
  },
  {
   "cell_type": "markdown",
   "id": "f3c6804d-443d-4f8d-ab1d-36c8e77b95d1",
   "metadata": {},
   "source": [
    "# Items"
   ]
  },
  {
   "cell_type": "markdown",
   "id": "c29c2237-ed10-4bc2-b425-69b4a692f665",
   "metadata": {},
   "source": [
    "### The items function returns a list containing a tuple for each key value pair"
   ]
  },
  {
   "cell_type": "code",
   "execution_count": 10,
   "id": "031c6777-6617-47d1-ad1e-24023b05b213",
   "metadata": {},
   "outputs": [
    {
     "data": {
      "text/plain": [
       "{'brand': 'TATA', 'model': 'tata nexon EV', 'year': 2020}"
      ]
     },
     "execution_count": 10,
     "metadata": {},
     "output_type": "execute_result"
    }
   ],
   "source": [
    "a1 = {'brand':'TATA','model':'tata nexon EV','year':2020}\n",
    "a1"
   ]
  },
  {
   "cell_type": "code",
   "execution_count": 11,
   "id": "72e59380-b3a4-42be-b18f-e0e3e4a1cba7",
   "metadata": {},
   "outputs": [
    {
     "data": {
      "text/plain": [
       "dict_items([('brand', 'TATA'), ('model', 'tata nexon EV'), ('year', 2020)])"
      ]
     },
     "execution_count": 11,
     "metadata": {},
     "output_type": "execute_result"
    }
   ],
   "source": [
    "a1 = a1.items()\n",
    "a1"
   ]
  },
  {
   "cell_type": "markdown",
   "id": "76a07268-28c1-4077-b3b8-66bece92c07e",
   "metadata": {},
   "source": [
    "# Setdefault"
   ]
  },
  {
   "cell_type": "markdown",
   "id": "690cb21e-dbd9-438e-976c-c4b3de19ce31",
   "metadata": {},
   "source": [
    "### The setdefault method returns the value of the specified key.if the key does not exist: insert the key, with the specified value"
   ]
  },
  {
   "cell_type": "code",
   "execution_count": 15,
   "id": "a0c92a22-62fe-43fd-af11-d2e0b6e8665b",
   "metadata": {},
   "outputs": [
    {
     "data": {
      "text/plain": [
       "{'brand': 'TATA', 'model': 'tata nexon EV', 'year': 2020}"
      ]
     },
     "execution_count": 15,
     "metadata": {},
     "output_type": "execute_result"
    }
   ],
   "source": [
    "a1 = {'brand':'TATA','model':'tata nexon EV','year':2020}\n",
    "a1"
   ]
  },
  {
   "cell_type": "code",
   "execution_count": 14,
   "id": "1904f1af-b477-4f8a-b996-6a6aa4c8cf0c",
   "metadata": {},
   "outputs": [
    {
     "data": {
      "text/plain": [
       "'TATA'"
      ]
     },
     "execution_count": 14,
     "metadata": {},
     "output_type": "execute_result"
    }
   ],
   "source": [
    "a1 = a1.setdefault('brand','Mahindra')\n",
    "a1"
   ]
  },
  {
   "cell_type": "markdown",
   "id": "d7445d0f-3525-4756-9a22-cff24377e2be",
   "metadata": {},
   "source": [
    "# Update"
   ]
  },
  {
   "cell_type": "markdown",
   "id": "93583888-00fc-4978-a784-38500a2a5d1b",
   "metadata": {},
   "source": [
    "### The updates mothod updates the dictionary with the specified key-values pairs."
   ]
  },
  {
   "cell_type": "code",
   "execution_count": 16,
   "id": "0e711b0c-8609-4d39-ae64-7e10d9ad16e8",
   "metadata": {},
   "outputs": [
    {
     "data": {
      "text/plain": [
       "{'brand': 'TATA', 'model': 'tata nexon EV', 'year': 2020}"
      ]
     },
     "execution_count": 16,
     "metadata": {},
     "output_type": "execute_result"
    }
   ],
   "source": [
    "a1 = {'brand':'TATA','model':'tata nexon EV','year':2020}\n",
    "a1"
   ]
  },
  {
   "cell_type": "code",
   "execution_count": 17,
   "id": "377f4758-d145-483c-bc36-82a7956908b2",
   "metadata": {},
   "outputs": [
    {
     "data": {
      "text/plain": [
       "{'brand': 'TATA', 'model': 'tata punch EV', 'year': 2020}"
      ]
     },
     "execution_count": 17,
     "metadata": {},
     "output_type": "execute_result"
    }
   ],
   "source": [
    "a1.update({'model':'tata punch EV'})\n",
    "a1"
   ]
  },
  {
   "cell_type": "markdown",
   "id": "e1c5e6df-35b2-4f1a-b087-9997b478eb40",
   "metadata": {},
   "source": [
    "# Keys"
   ]
  },
  {
   "cell_type": "markdown",
   "id": "4f874208-7df0-49bd-85b4-6e18ac8bd0e8",
   "metadata": {},
   "source": [
    "### Returns a view object that displays a list of all the keys in the dictionary."
   ]
  },
  {
   "cell_type": "code",
   "execution_count": 18,
   "id": "4ba08856-956b-4699-b667-85d13a55df81",
   "metadata": {},
   "outputs": [
    {
     "data": {
      "text/plain": [
       "{'a1': 59, 'b1': 60, 'c1': 70, 'd1': 75}"
      ]
     },
     "execution_count": 18,
     "metadata": {},
     "output_type": "execute_result"
    }
   ],
   "source": [
    "q1 = {'a1':59,'b1':60,'c1':70,'d1':75}\n",
    "q1"
   ]
  },
  {
   "cell_type": "code",
   "execution_count": 20,
   "id": "c84d29dd-de14-496a-b9a1-644d30195952",
   "metadata": {},
   "outputs": [
    {
     "data": {
      "text/plain": [
       "dict_keys(['a1', 'b1', 'c1', 'd1'])"
      ]
     },
     "execution_count": 20,
     "metadata": {},
     "output_type": "execute_result"
    }
   ],
   "source": [
    "q1.keys()"
   ]
  },
  {
   "cell_type": "markdown",
   "id": "98c5db93-461b-430b-97e8-57656cf13395",
   "metadata": {},
   "source": [
    "# Values"
   ]
  },
  {
   "cell_type": "markdown",
   "id": "fbb821d3-1fa6-4911-a4cb-4351a8b51daf",
   "metadata": {},
   "source": [
    "### This method Returns a view object that displays a list of all the values in the dictionary."
   ]
  },
  {
   "cell_type": "code",
   "execution_count": 24,
   "id": "eb2c4d39-ac03-444f-9ece-0c35d19b55bd",
   "metadata": {},
   "outputs": [
    {
     "data": {
      "text/plain": [
       "{'a1': 59, 'b1': 60, 'c1': 70, 'd1': 75}"
      ]
     },
     "execution_count": 24,
     "metadata": {},
     "output_type": "execute_result"
    }
   ],
   "source": [
    "q1 = {'a1':59,'b1':60,'c1':70,'d1':75}\n",
    "q1"
   ]
  },
  {
   "cell_type": "code",
   "execution_count": 26,
   "id": "c6af5dd2-fe67-4839-852a-44b75ac549a6",
   "metadata": {},
   "outputs": [
    {
     "data": {
      "text/plain": [
       "dict_values([59, 60, 70, 75])"
      ]
     },
     "execution_count": 26,
     "metadata": {},
     "output_type": "execute_result"
    }
   ],
   "source": [
    "q1.values()"
   ]
  }
 ],
 "metadata": {
  "kernelspec": {
   "display_name": "Python 3 (ipykernel)",
   "language": "python",
   "name": "python3"
  },
  "language_info": {
   "codemirror_mode": {
    "name": "ipython",
    "version": 3
   },
   "file_extension": ".py",
   "mimetype": "text/x-python",
   "name": "python",
   "nbconvert_exporter": "python",
   "pygments_lexer": "ipython3",
   "version": "3.11.7"
  }
 },
 "nbformat": 4,
 "nbformat_minor": 5
}
