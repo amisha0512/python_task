{
 "cells": [
  {
   "cell_type": "markdown",
   "id": "565b91e0-f87a-4623-bcee-df7896b960ba",
   "metadata": {},
   "source": [
    "\n",
    "# List"
   ]
  },
  {
   "cell_type": "markdown",
   "id": "d6b6ae3b-f965-4400-bd84-6ef220d925f8",
   "metadata": {},
   "source": [
    "### A list is a data structure in Python that is a mutable, or changeable, ordered sequence of elements"
   ]
  },
  {
   "cell_type": "code",
   "execution_count": 12,
   "id": "ea02ab11-89cb-4eac-8a41-07b55630c137",
   "metadata": {},
   "outputs": [
    {
     "data": {
      "text/plain": [
       "[1, 2, 3, 4, 4, 6]"
      ]
     },
     "execution_count": 12,
     "metadata": {},
     "output_type": "execute_result"
    }
   ],
   "source": [
    "list_1=[1,2,3,4,4,6]\n",
    "list_1"
   ]
  },
  {
   "cell_type": "markdown",
   "id": "32d40084-e130-4cd6-9ec1-29163cf296dc",
   "metadata": {},
   "source": [
    "# Copy"
   ]
  },
  {
   "cell_type": "markdown",
   "id": "52b546bc-7d01-45b5-ac10-d98349dd8d08",
   "metadata": {},
   "source": [
    "### Copy function returns a copy of the list"
   ]
  },
  {
   "cell_type": "code",
   "execution_count": 15,
   "id": "08f3967b-7a63-4241-8a9b-ab4b0f29c2f3",
   "metadata": {},
   "outputs": [
    {
     "name": "stdout",
     "output_type": "stream",
     "text": [
      "['tiger', 'lion', 'panda', 'horse']\n"
     ]
    }
   ],
   "source": [
    "ab = ['tiger','lion','panda','horse']\n",
    "print(ab)"
   ]
  },
  {
   "cell_type": "markdown",
   "id": "47eb7f5a-1b1b-4af8-9edd-8f651937e987",
   "metadata": {},
   "source": [
    "# Append"
   ]
  },
  {
   "cell_type": "markdown",
   "id": "a9379dc7-59c2-4027-970d-d16133b9e30f",
   "metadata": {},
   "source": [
    "### The append function method is used to add element at the end of the list."
   ]
  },
  {
   "cell_type": "code",
   "execution_count": 16,
   "id": "aa556938-ffb0-48e6-9219-ef0fc9c0adcc",
   "metadata": {},
   "outputs": [
    {
     "name": "stdout",
     "output_type": "stream",
     "text": [
      "[1, 2, 'tiger', 4, 'panda']\n"
     ]
    }
   ],
   "source": [
    "ab = [1,2,'tiger',4,'panda']\n",
    "print(ab)"
   ]
  },
  {
   "cell_type": "code",
   "execution_count": 18,
   "id": "dafaa780-c589-4c42-8981-d4e9584db350",
   "metadata": {},
   "outputs": [
    {
     "data": {
      "text/plain": [
       "[1, 2, 'tiger', 4, 'panda', 6, 6]"
      ]
     },
     "execution_count": 18,
     "metadata": {},
     "output_type": "execute_result"
    }
   ],
   "source": [
    "ab.append(6)\n",
    "ab"
   ]
  },
  {
   "cell_type": "markdown",
   "id": "810bca2b-ad25-4e0b-abab-4a9138a22293",
   "metadata": {},
   "source": [
    "### Count"
   ]
  },
  {
   "cell_type": "markdown",
   "id": "90000ea1-0e62-4ff4-a814-e9c4fef8aa74",
   "metadata": {},
   "source": [
    "### The count function method returns the count of the occurrences of a given element in a list."
   ]
  },
  {
   "cell_type": "code",
   "execution_count": 79,
   "id": "f6daeec8-ae8c-4573-8dda-8417c566e264",
   "metadata": {},
   "outputs": [
    {
     "name": "stdout",
     "output_type": "stream",
     "text": [
      "[10, 40, 40, 20, 30, 50]\n"
     ]
    }
   ],
   "source": [
    "ab = [10,40,40,20,30,50]\n",
    "print(ab)"
   ]
  },
  {
   "cell_type": "code",
   "execution_count": 80,
   "id": "ca88a66e-bf80-41a7-a24d-149db83da9e2",
   "metadata": {},
   "outputs": [
    {
     "data": {
      "text/plain": [
       "2"
      ]
     },
     "execution_count": 80,
     "metadata": {},
     "output_type": "execute_result"
    }
   ],
   "source": [
    "ab.count(40)"
   ]
  },
  {
   "cell_type": "markdown",
   "id": "bda9a01f-3eca-482f-b037-4e395e681ee7",
   "metadata": {},
   "source": [
    "# Remove"
   ]
  },
  {
   "cell_type": "markdown",
   "id": "97e05efb-7c19-44e1-9304-01ca436891d2",
   "metadata": {},
   "source": [
    "### The remove function method removes a given element from the list."
   ]
  },
  {
   "cell_type": "code",
   "execution_count": 24,
   "id": "1ab03a30-6189-4adc-85d9-c06da743802a",
   "metadata": {},
   "outputs": [
    {
     "data": {
      "text/plain": [
       "['tiger', 'lion', 'panda', 'horse', 'fish']"
      ]
     },
     "execution_count": 24,
     "metadata": {},
     "output_type": "execute_result"
    }
   ],
   "source": [
    "ab = ['tiger','lion','panda','horse','fish']\n",
    "ab\n"
   ]
  },
  {
   "cell_type": "code",
   "execution_count": 25,
   "id": "7befcf22-7430-4db9-9384-f3c94a182cb7",
   "metadata": {},
   "outputs": [
    {
     "data": {
      "text/plain": [
       "['tiger', 'lion', 'panda', 'horse']"
      ]
     },
     "execution_count": 25,
     "metadata": {},
     "output_type": "execute_result"
    }
   ],
   "source": [
    "ab.remove(\"fish\")\n",
    "ab"
   ]
  },
  {
   "cell_type": "markdown",
   "id": "a7e866ed-c176-4b2a-9149-4703c96f09c6",
   "metadata": {},
   "source": [
    "# insert"
   ]
  },
  {
   "cell_type": "markdown",
   "id": "b2dea0aa-24aa-4c3c-9114-33235ebcafaf",
   "metadata": {},
   "source": [
    "### Insert function method inserts an item at a specific index in a list."
   ]
  },
  {
   "cell_type": "code",
   "execution_count": 31,
   "id": "ad20147d-8ae5-4ab6-9c30-8a08a66c1a5a",
   "metadata": {},
   "outputs": [
    {
     "data": {
      "text/plain": [
       "['india', 'iron', 'china', 'brazil']"
      ]
     },
     "execution_count": 31,
     "metadata": {},
     "output_type": "execute_result"
    }
   ],
   "source": [
    "ab = [\"india\",\"iron\",\"china\",\"brazil\"]\n",
    "ab"
   ]
  },
  {
   "cell_type": "code",
   "execution_count": 32,
   "id": "21406414-d7ca-4b7f-827d-65803993b242",
   "metadata": {},
   "outputs": [
    {
     "data": {
      "text/plain": [
       "['india', 'iron', 'china', 'qatar', 'brazil']"
      ]
     },
     "execution_count": 32,
     "metadata": {},
     "output_type": "execute_result"
    }
   ],
   "source": [
    "ab.insert(3,\"qatar\")\n",
    "ab"
   ]
  },
  {
   "cell_type": "markdown",
   "id": "9d37aee8-cc43-4bb3-a189-76f497bbcaa0",
   "metadata": {},
   "source": [
    "# extend"
   ]
  },
  {
   "cell_type": "markdown",
   "id": "2a1ba41f-26c6-49c6-9e47-395974b93b7e",
   "metadata": {},
   "source": [
    "### The extend function method adds items of at the and of a list."
   ]
  },
  {
   "cell_type": "code",
   "execution_count": 48,
   "id": "08699900-807f-4e9b-9cd9-f9486edfec7a",
   "metadata": {},
   "outputs": [
    {
     "data": {
      "text/plain": [
       "['kolkata', 'delhi', 'kolkata', 'delhi']"
      ]
     },
     "execution_count": 48,
     "metadata": {},
     "output_type": "execute_result"
    }
   ],
   "source": [
    "ab = ['pune','mumbai','nagpur']\n",
    "ab = ['kolkata','delhi']\n",
    "ab.extend(ab)\n",
    "ab"
   ]
  },
  {
   "cell_type": "markdown",
   "id": "285bad20-1174-4545-af1f-6f0d019eaf88",
   "metadata": {},
   "source": [
    "# Clear"
   ]
  },
  {
   "cell_type": "markdown",
   "id": "470b9372-d53d-42fb-826c-cd76afddf3c3",
   "metadata": {},
   "source": [
    "### Clear function method removes all items from the list making it an empty list."
   ]
  },
  {
   "cell_type": "code",
   "execution_count": 49,
   "id": "38b7cd49-3eee-4648-98de-296eeff71796",
   "metadata": {},
   "outputs": [
    {
     "data": {
      "text/plain": [
       "[1, 3, 5, 7, 9, 0]"
      ]
     },
     "execution_count": 49,
     "metadata": {},
     "output_type": "execute_result"
    }
   ],
   "source": [
    "ab = [1,3,5,7,9,0]\n",
    "ab"
   ]
  },
  {
   "cell_type": "code",
   "execution_count": 51,
   "id": "32db3389-7d62-4a34-8913-af2c17bfb2e0",
   "metadata": {},
   "outputs": [
    {
     "data": {
      "text/plain": [
       "[]"
      ]
     },
     "execution_count": 51,
     "metadata": {},
     "output_type": "execute_result"
    }
   ],
   "source": [
    "ab.clear()\n",
    "ab"
   ]
  },
  {
   "cell_type": "markdown",
   "id": "ef84faa8-8be5-45c8-945e-82a41e14d6c7",
   "metadata": {},
   "source": [
    "# Min"
   ]
  },
  {
   "cell_type": "markdown",
   "id": "3d2b556d-2220-4a31-abd6-9c4a116b0cf2",
   "metadata": {},
   "source": [
    "### Min function returns the smallest element."
   ]
  },
  {
   "cell_type": "code",
   "execution_count": 52,
   "id": "37bf45aa-ddc5-4908-acf2-512e2816aac8",
   "metadata": {},
   "outputs": [
    {
     "data": {
      "text/plain": [
       "[14, 59, 60, 30, 71]"
      ]
     },
     "execution_count": 52,
     "metadata": {},
     "output_type": "execute_result"
    }
   ],
   "source": [
    "ab = [14,59,60,30,71]\n",
    "ab\n"
   ]
  },
  {
   "cell_type": "code",
   "execution_count": 54,
   "id": "af3d8613-f599-45ef-b50d-88cad599856e",
   "metadata": {},
   "outputs": [
    {
     "name": "stdout",
     "output_type": "stream",
     "text": [
      "14\n"
     ]
    }
   ],
   "source": [
    "print(min(ab))\n"
   ]
  },
  {
   "cell_type": "markdown",
   "id": "1dbbc86a-5f11-4272-8821-31eba09d6a46",
   "metadata": {},
   "source": [
    "# Max"
   ]
  },
  {
   "cell_type": "markdown",
   "id": "7f86434d-0bad-47b4-a329-a3f1be2e3cd6",
   "metadata": {},
   "source": [
    " ### Max function return the largest element."
   ]
  },
  {
   "cell_type": "code",
   "execution_count": 55,
   "id": "874c2c45-5e8f-4dbe-bf46-2b8062dc5639",
   "metadata": {},
   "outputs": [
    {
     "data": {
      "text/plain": [
       "[20, 160, 40, 44, 290, 300, 28]"
      ]
     },
     "execution_count": 55,
     "metadata": {},
     "output_type": "execute_result"
    }
   ],
   "source": [
    "ab = [20, 160,40,44,290,300,28]\n",
    "ab"
   ]
  },
  {
   "cell_type": "code",
   "execution_count": 56,
   "id": "63c2b112-3d5a-4df8-aa7c-09ffa382b696",
   "metadata": {},
   "outputs": [
    {
     "name": "stdout",
     "output_type": "stream",
     "text": [
      "300\n"
     ]
    }
   ],
   "source": [
    "print(max(ab))"
   ]
  },
  {
   "cell_type": "markdown",
   "id": "dd90bea4-c017-45af-bf95-db8ddb90e213",
   "metadata": {},
   "source": [
    "# pop"
   ]
  },
  {
   "cell_type": "markdown",
   "id": "2aaeac6f-b0bd-4b70-9714-9ba4e84a92f2",
   "metadata": {},
   "source": [
    "### This function removes elements at a specific index from the list."
   ]
  },
  {
   "cell_type": "code",
   "execution_count": 57,
   "id": "696a7ea5-edc2-471a-90dc-bdebe0f89c50",
   "metadata": {},
   "outputs": [
    {
     "data": {
      "text/plain": [
       "[12, 39, 50, 60]"
      ]
     },
     "execution_count": 57,
     "metadata": {},
     "output_type": "execute_result"
    }
   ],
   "source": [
    "a1 = [12,39,50,60]\n",
    "a1"
   ]
  },
  {
   "cell_type": "code",
   "execution_count": 58,
   "id": "0907ba42-dfd5-4103-a647-1af34d2d47a3",
   "metadata": {},
   "outputs": [
    {
     "data": {
      "text/plain": [
       "60"
      ]
     },
     "execution_count": 58,
     "metadata": {},
     "output_type": "execute_result"
    }
   ],
   "source": [
    "a1.pop()"
   ]
  },
  {
   "cell_type": "markdown",
   "id": "557ba927-7f4b-4cfb-a792-7c78845893dc",
   "metadata": {},
   "source": [
    "# Sort"
   ]
  },
  {
   "cell_type": "markdown",
   "id": "2d7e2105-2eea-4433-adf3-b14f08f00cd9",
   "metadata": {},
   "source": [
    "### Sort function method sort the element of a list. It sorts in ascending order or descending order."
   ]
  },
  {
   "cell_type": "code",
   "execution_count": 61,
   "id": "0805e864-862b-4827-a415-5fa13ac1cfa6",
   "metadata": {},
   "outputs": [
    {
     "data": {
      "text/plain": [
       "[19.4, 60, 6, 100, 68, 72]"
      ]
     },
     "execution_count": 61,
     "metadata": {},
     "output_type": "execute_result"
    }
   ],
   "source": [
    "q1 = [19.40,60,6,100,68,72]\n",
    "q1"
   ]
  },
  {
   "cell_type": "code",
   "execution_count": 64,
   "id": "25b207f2-ceee-4e26-8caa-501585688a81",
   "metadata": {},
   "outputs": [
    {
     "data": {
      "text/plain": [
       "[6, 19.4, 60, 68, 72, 100]"
      ]
     },
     "execution_count": 64,
     "metadata": {},
     "output_type": "execute_result"
    }
   ],
   "source": [
    "q1.sort()\n",
    "q1"
   ]
  },
  {
   "cell_type": "markdown",
   "id": "c95ffe84-bb9f-4d9d-9954-6123baa6f162",
   "metadata": {},
   "source": [
    "# index"
   ]
  },
  {
   "cell_type": "markdown",
   "id": "89f22d99-fc06-4dca-b2aa-14d741ee971c",
   "metadata": {},
   "source": [
    "### Index function is used to find a element in the list"
   ]
  },
  {
   "cell_type": "code",
   "execution_count": 67,
   "id": "35af4bc9-dd6d-4c6e-bbdd-ab4c3e3c763a",
   "metadata": {},
   "outputs": [
    {
     "data": {
      "text/plain": [
       "['pune', 'nagpur', 'mumbai', 'kolkata']"
      ]
     },
     "execution_count": 67,
     "metadata": {},
     "output_type": "execute_result"
    }
   ],
   "source": [
    "city = ['pune','nagpur','mumbai','kolkata']\n",
    "city"
   ]
  },
  {
   "cell_type": "code",
   "execution_count": 66,
   "id": "dfdefdbb-c4b6-468b-8a0f-86a3dc6d707f",
   "metadata": {},
   "outputs": [
    {
     "data": {
      "text/plain": [
       "2"
      ]
     },
     "execution_count": 66,
     "metadata": {},
     "output_type": "execute_result"
    }
   ],
   "source": [
    "city.index('mumbai')\n"
   ]
  },
  {
   "cell_type": "markdown",
   "id": "be8b92cf-c5ff-4d1b-8ffe-b8fbe1945cc7",
   "metadata": {},
   "source": [
    "# Reverse"
   ]
  },
  {
   "cell_type": "markdown",
   "id": "e39e15e0-636c-4b96-aeb7-3e607b9a59f2",
   "metadata": {},
   "source": [
    "### Reverse function is used to reverse the order of the list"
   ]
  },
  {
   "cell_type": "code",
   "execution_count": 68,
   "id": "e9d798c5-44c8-4162-b4d9-52f58acadbd0",
   "metadata": {},
   "outputs": [
    {
     "data": {
      "text/plain": [
       "['red', 'yellow', 'orange', 'blue', 'black']"
      ]
     },
     "execution_count": 68,
     "metadata": {},
     "output_type": "execute_result"
    }
   ],
   "source": [
    "c = ['red','yellow','orange','blue','black']\n",
    "c"
   ]
  },
  {
   "cell_type": "code",
   "execution_count": 69,
   "id": "65660294-9170-4948-a432-d84b86de7015",
   "metadata": {},
   "outputs": [
    {
     "name": "stdout",
     "output_type": "stream",
     "text": [
      "None\n"
     ]
    }
   ],
   "source": [
    "print(c.reverse())"
   ]
  },
  {
   "cell_type": "code",
   "execution_count": 70,
   "id": "fba571b1-5ecc-492d-b72d-2881aa0c9213",
   "metadata": {},
   "outputs": [
    {
     "data": {
      "text/plain": [
       "['black', 'blue', 'orange', 'yellow', 'red']"
      ]
     },
     "execution_count": 70,
     "metadata": {},
     "output_type": "execute_result"
    }
   ],
   "source": [
    "c"
   ]
  }
 ],
 "metadata": {
  "kernelspec": {
   "display_name": "Python 3 (ipykernel)",
   "language": "python",
   "name": "python3"
  },
  "language_info": {
   "codemirror_mode": {
    "name": "ipython",
    "version": 3
   },
   "file_extension": ".py",
   "mimetype": "text/x-python",
   "name": "python",
   "nbconvert_exporter": "python",
   "pygments_lexer": "ipython3",
   "version": "3.11.7"
  }
 },
 "nbformat": 4,
 "nbformat_minor": 5
}
