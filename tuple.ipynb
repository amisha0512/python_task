{
 "cells": [
  {
   "cell_type": "markdown",
   "id": "e0ddeb34-67e0-41c8-8840-7da3cb4130af",
   "metadata": {},
   "source": [
    "# tuple"
   ]
  },
  {
   "cell_type": "markdown",
   "id": "5787e290-7f34-4105-abc1-1e498527cbd2",
   "metadata": {},
   "source": [
    "### create tuple"
   ]
  },
  {
   "cell_type": "code",
   "execution_count": 2,
   "id": "ccec02a8-01ba-49a4-b24f-b128100f7150",
   "metadata": {},
   "outputs": [
    {
     "name": "stdout",
     "output_type": "stream",
     "text": [
      "['red', 'blue', 'green', 'yellow', 'black']\n"
     ]
    }
   ],
   "source": [
    "colours =['red','blue','green','yellow','black']\n",
    "print(colours)"
   ]
  },
  {
   "cell_type": "markdown",
   "id": "bee883bf-5b4b-4b69-8e3d-12a2b68a88a5",
   "metadata": {},
   "source": [
    "# length"
   ]
  },
  {
   "cell_type": "markdown",
   "id": "7341fa7f-c7de-431f-8b77-4980402f4dfc",
   "metadata": {},
   "source": [
    "### This function returns the number of element present in a tuple."
   ]
  },
  {
   "cell_type": "code",
   "execution_count": 3,
   "id": "201b6b5b-417f-486a-90d1-8062dba2ba05",
   "metadata": {},
   "outputs": [
    {
     "data": {
      "text/plain": [
       "['red', 'blue', 'green', 'yellow', 'black']"
      ]
     },
     "execution_count": 3,
     "metadata": {},
     "output_type": "execute_result"
    }
   ],
   "source": [
    "colours = ['red','blue','green','yellow','black']\n",
    "colours"
   ]
  },
  {
   "cell_type": "code",
   "execution_count": 4,
   "id": "af333883-c48a-4ad1-b302-a32aa222d1a7",
   "metadata": {},
   "outputs": [
    {
     "data": {
      "text/plain": [
       "5"
      ]
     },
     "execution_count": 4,
     "metadata": {},
     "output_type": "execute_result"
    }
   ],
   "source": [
    "len(colours)"
   ]
  },
  {
   "cell_type": "markdown",
   "id": "6cc20dbe-57a6-4799-8480-974e3b439847",
   "metadata": {},
   "source": [
    "# index"
   ]
  },
  {
   "cell_type": "markdown",
   "id": "6057ebb9-6ab8-42e9-bd2b-032d90e6bc64",
   "metadata": {},
   "source": [
    "### This index() method helps us to find the index or occurrence of an element in the tuple."
   ]
  },
  {
   "cell_type": "code",
   "execution_count": 6,
   "id": "bc2ca7fb-8b28-402f-95b6-c4d547f8284f",
   "metadata": {},
   "outputs": [
    {
     "data": {
      "text/plain": [
       "[18, 99, 50, 70, 80, 100]"
      ]
     },
     "execution_count": 6,
     "metadata": {},
     "output_type": "execute_result"
    }
   ],
   "source": [
    "numbers = [18,99,50,70,80,100]\n",
    "numbers"
   ]
  },
  {
   "cell_type": "code",
   "execution_count": 7,
   "id": "55f7735b-2f08-41ab-8dd3-7a10eab5d97f",
   "metadata": {},
   "outputs": [
    {
     "data": {
      "text/plain": [
       "4"
      ]
     },
     "execution_count": 7,
     "metadata": {},
     "output_type": "execute_result"
    }
   ],
   "source": [
    "numbers.index(80)"
   ]
  },
  {
   "cell_type": "markdown",
   "id": "195b970d-9086-4be9-b969-b2740af314c1",
   "metadata": {},
   "source": [
    "# sorted"
   ]
  },
  {
   "cell_type": "markdown",
   "id": "ac616e94-96b7-43c7-80fa-06e5e6037888",
   "metadata": {},
   "source": [
    "### This method takes a tuple as an input and returns a sorted list as an outpu"
   ]
  },
  {
   "cell_type": "code",
   "execution_count": 9,
   "id": "4838ad2e-d562-4649-bc65-10f97a2a82e0",
   "metadata": {},
   "outputs": [
    {
     "data": {
      "text/plain": [
       "[20, 30, 80, 60, 40, 10]"
      ]
     },
     "execution_count": 9,
     "metadata": {},
     "output_type": "execute_result"
    }
   ],
   "source": [
    "num = [20,30,80,60,40,10]\n",
    "num"
   ]
  },
  {
   "cell_type": "code",
   "execution_count": 11,
   "id": "80d87482-d7a8-433c-a81d-3b2913705be6",
   "metadata": {},
   "outputs": [
    {
     "data": {
      "text/plain": [
       "[10, 20, 30, 40, 60, 80]"
      ]
     },
     "execution_count": 11,
     "metadata": {},
     "output_type": "execute_result"
    }
   ],
   "source": [
    "sorted(num)"
   ]
  },
  {
   "cell_type": "markdown",
   "id": "8d4075a1-6196-4a02-9268-25e9d6997feb",
   "metadata": {},
   "source": [
    "# count"
   ]
  },
  {
   "cell_type": "markdown",
   "id": "9f9cff9b-42b7-46ac-a1b1-c7379cab1fb1",
   "metadata": {},
   "source": [
    "### This function will help us to found the number of time an element is present in the tuple."
   ]
  },
  {
   "cell_type": "code",
   "execution_count": 16,
   "id": "de93afa9-c8c4-461e-8906-1f7c0f246d5e",
   "metadata": {},
   "outputs": [
    {
     "data": {
      "text/plain": [
       "[20, 50, 50, 20, 70, 80, 50, 10, 50]"
      ]
     },
     "execution_count": 16,
     "metadata": {},
     "output_type": "execute_result"
    }
   ],
   "source": [
    "a1 = [20,50,50,20,70,80,50,10,50]\n",
    "a1\n"
   ]
  },
  {
   "cell_type": "code",
   "execution_count": 19,
   "id": "4db45472-be8d-458f-985d-72a777fe670a",
   "metadata": {},
   "outputs": [
    {
     "data": {
      "text/plain": [
       "4"
      ]
     },
     "execution_count": 19,
     "metadata": {},
     "output_type": "execute_result"
    }
   ],
   "source": [
    "a1.count(50)"
   ]
  }
 ],
 "metadata": {
  "kernelspec": {
   "display_name": "Python 3 (ipykernel)",
   "language": "python",
   "name": "python3"
  },
  "language_info": {
   "codemirror_mode": {
    "name": "ipython",
    "version": 3
   },
   "file_extension": ".py",
   "mimetype": "text/x-python",
   "name": "python",
   "nbconvert_exporter": "python",
   "pygments_lexer": "ipython3",
   "version": "3.11.7"
  }
 },
 "nbformat": 4,
 "nbformat_minor": 5
}
