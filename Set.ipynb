{
 "cells": [
  {
   "cell_type": "markdown",
   "id": "669b810f-ca02-4b40-929d-fbe30975e1ba",
   "metadata": {},
   "source": [
    "# Sets"
   ]
  },
  {
   "cell_type": "markdown",
   "id": "9213e225-d93f-4831-919b-4b6cd48979cd",
   "metadata": {},
   "source": [
    "### It is unordered and unindexed collection of element. Duplicates are not allow in set"
   ]
  },
  {
   "cell_type": "code",
   "execution_count": 5,
   "id": "d25a5bf3-09dc-4817-856a-92a5b8f397d0",
   "metadata": {},
   "outputs": [
    {
     "data": {
      "text/plain": [
       "{1, 'False', 'b'}"
      ]
     },
     "execution_count": 5,
     "metadata": {},
     "output_type": "execute_result"
    }
   ],
   "source": [
    "a1 = {1,'b','False'}\n",
    "a1"
   ]
  },
  {
   "cell_type": "markdown",
   "id": "5c9f59a8-a722-4abf-b09e-a8406a47f537",
   "metadata": {},
   "source": [
    "# Functions of Sets"
   ]
  },
  {
   "cell_type": "markdown",
   "id": "08c0f954-38cc-4df8-b3f6-f34e69f98454",
   "metadata": {},
   "source": [
    "# Add"
   ]
  },
  {
   "cell_type": "markdown",
   "id": "d087725f-8835-46ff-b9f6-b1f2ed80f223",
   "metadata": {},
   "source": [
    "### This method takes the element to be added as an argument"
   ]
  },
  {
   "cell_type": "code",
   "execution_count": 6,
   "id": "0cd1452f-2f80-44cb-b925-cd7d89ca988a",
   "metadata": {},
   "outputs": [
    {
     "data": {
      "text/plain": [
       "{'B'}"
      ]
     },
     "execution_count": 6,
     "metadata": {},
     "output_type": "execute_result"
    }
   ],
   "source": [
    "my_set = set()\n",
    "my_set.add('B')\n",
    "my_set"
   ]
  },
  {
   "cell_type": "code",
   "execution_count": 7,
   "id": "787bf233-52e9-45cd-b57c-6a8a70ec502e",
   "metadata": {},
   "outputs": [
    {
     "data": {
      "text/plain": [
       "{5, 'B'}"
      ]
     },
     "execution_count": 7,
     "metadata": {},
     "output_type": "execute_result"
    }
   ],
   "source": [
    "my_set.add(5)\n",
    "my_set"
   ]
  },
  {
   "cell_type": "markdown",
   "id": "f9da6f28-bcd6-4c05-9ae1-e4f2ba7cf778",
   "metadata": {},
   "source": [
    "# Update"
   ]
  },
  {
   "cell_type": "markdown",
   "id": "9b75f914-ae62-45b6-b8bf-86794057cfd2",
   "metadata": {},
   "source": [
    "### This method helps to add multiple elements to a set"
   ]
  },
  {
   "cell_type": "code",
   "execution_count": 9,
   "id": "a147050c-07ea-4b8c-aac7-532fcd48280e",
   "metadata": {},
   "outputs": [
    {
     "data": {
      "text/plain": [
       "{40, 50, 60, 70, 80, 90}"
      ]
     },
     "execution_count": 9,
     "metadata": {},
     "output_type": "execute_result"
    }
   ],
   "source": [
    "my_set = {40,50,60,70,80,90}\n",
    "my_set"
   ]
  },
  {
   "cell_type": "code",
   "execution_count": 13,
   "id": "591d3caf-c1e7-4124-8216-5e96fac75289",
   "metadata": {},
   "outputs": [
    {
     "data": {
      "text/plain": [
       "{40, 50, 60, 70, 80, 90, 100}"
      ]
     },
     "execution_count": 13,
     "metadata": {},
     "output_type": "execute_result"
    }
   ],
   "source": [
    "my_set.update([100])\n",
    "my_set"
   ]
  },
  {
   "cell_type": "markdown",
   "id": "69c8ee9d-4ed2-468e-9c13-93c4ac3ade7c",
   "metadata": {},
   "source": [
    "# Clear"
   ]
  },
  {
   "cell_type": "markdown",
   "id": "2aaf17c5-ca37-4241-9bf1-b25d62d4c78f",
   "metadata": {},
   "source": [
    "### It Removes all elements from the set, leaving it empty."
   ]
  },
  {
   "cell_type": "code",
   "execution_count": 14,
   "id": "129f51aa-d410-40a2-9214-5e5e980e9301",
   "metadata": {},
   "outputs": [
    {
     "data": {
      "text/plain": [
       "{40, 50, 70, 80, 90, 91}"
      ]
     },
     "execution_count": 14,
     "metadata": {},
     "output_type": "execute_result"
    }
   ],
   "source": [
    "my_set = {40,50,90,70,80,91}\n",
    "my_set"
   ]
  },
  {
   "cell_type": "code",
   "execution_count": 15,
   "id": "930b9315-07bd-4bc0-8146-2f2f144d2ed8",
   "metadata": {},
   "outputs": [
    {
     "data": {
      "text/plain": [
       "set()"
      ]
     },
     "execution_count": 15,
     "metadata": {},
     "output_type": "execute_result"
    }
   ],
   "source": [
    "my_set.clear()\n",
    "my_set"
   ]
  },
  {
   "cell_type": "markdown",
   "id": "9e081cc0-29d7-4cdf-8c99-e17d4c39b7d7",
   "metadata": {},
   "source": [
    "# Remove"
   ]
  },
  {
   "cell_type": "markdown",
   "id": "e8fcfe6f-fd72-466e-8bfc-3ff021b6a815",
   "metadata": {},
   "source": [
    "### Use remove function to remove an item/element from the set."
   ]
  },
  {
   "cell_type": "code",
   "execution_count": 16,
   "id": "7a7398f8-91ec-4620-8678-039b162ec634",
   "metadata": {},
   "outputs": [
    {
     "data": {
      "text/plain": [
       "{10, 30, 40, 70, 80, 90}"
      ]
     },
     "execution_count": 16,
     "metadata": {},
     "output_type": "execute_result"
    }
   ],
   "source": [
    "my_set = {40,30,10,70,90,80}\n",
    "my_set"
   ]
  },
  {
   "cell_type": "code",
   "execution_count": 17,
   "id": "92cb9062-a3d0-42bc-9a26-d6d1d4173a42",
   "metadata": {},
   "outputs": [
    {
     "data": {
      "text/plain": [
       "{30, 40, 70, 80, 90}"
      ]
     },
     "execution_count": 17,
     "metadata": {},
     "output_type": "execute_result"
    }
   ],
   "source": [
    "my_set.remove(10)\n",
    "my_set"
   ]
  },
  {
   "cell_type": "markdown",
   "id": "c0a712a4-5c55-4976-be20-c46f73119542",
   "metadata": {},
   "source": [
    "# Union"
   ]
  },
  {
   "cell_type": "markdown",
   "id": "be22d952-aa6f-415e-843f-15586d307316",
   "metadata": {},
   "source": [
    "### It Returns a new set with elements from the set and all others."
   ]
  },
  {
   "cell_type": "code",
   "execution_count": 19,
   "id": "ad342a95-fa37-4ac5-859b-ff8506e0cfd8",
   "metadata": {},
   "outputs": [
    {
     "data": {
      "text/plain": [
       "{10, 20, 30, 40, 50, 60, 70, 80}"
      ]
     },
     "execution_count": 19,
     "metadata": {},
     "output_type": "execute_result"
    }
   ],
   "source": [
    "x = {10,20,30,40,50}\n",
    "y = {60,10,70,40,80}\n",
    "x.union(y)"
   ]
  },
  {
   "cell_type": "markdown",
   "id": "28cdeb9e-882f-4487-9e18-4ebac6b991d4",
   "metadata": {},
   "source": [
    "# Intersection"
   ]
  },
  {
   "cell_type": "markdown",
   "id": "deee7ec4-92ec-4964-9e20-3e2dc2c9aa6b",
   "metadata": {},
   "source": [
    "### It returns the intersection of two sets."
   ]
  },
  {
   "cell_type": "code",
   "execution_count": 21,
   "id": "47e17e8a-1346-4a08-b7b3-141bff8d9323",
   "metadata": {},
   "outputs": [
    {
     "data": {
      "text/plain": [
       "{10, 40}"
      ]
     },
     "execution_count": 21,
     "metadata": {},
     "output_type": "execute_result"
    }
   ],
   "source": [
    "x = {10,20,30,40,50}\n",
    "y = {60,10,70,40,80}\n",
    "x.intersection(y)\n"
   ]
  },
  {
   "cell_type": "markdown",
   "id": "9bdeb22c-e018-438d-95e2-558ff67381b2",
   "metadata": {},
   "source": [
    "# Difference"
   ]
  },
  {
   "cell_type": "markdown",
   "id": "75fbdcf7-ccfd-4355-aded-cd5d80a460d6",
   "metadata": {},
   "source": [
    "### It Returns a new set with elements that are in the set but not in the others."
   ]
  },
  {
   "cell_type": "code",
   "execution_count": 22,
   "id": "4e60373b-ebe2-4a18-b5fc-c09581252065",
   "metadata": {},
   "outputs": [
    {
     "data": {
      "text/plain": [
       "{20, 30, 50}"
      ]
     },
     "execution_count": 22,
     "metadata": {},
     "output_type": "execute_result"
    }
   ],
   "source": [
    "x = {10,20,30,40,50}\n",
    "y = {60,10,70,40,80}\n",
    "x.difference(y)"
   ]
  },
  {
   "cell_type": "code",
   "execution_count": 23,
   "id": "43e7c1cb-94e8-4ddc-b265-e91f12ce9ba3",
   "metadata": {},
   "outputs": [
    {
     "data": {
      "text/plain": [
       "{60, 70, 80}"
      ]
     },
     "execution_count": 23,
     "metadata": {},
     "output_type": "execute_result"
    }
   ],
   "source": [
    "y.difference(x)"
   ]
  },
  {
   "cell_type": "markdown",
   "id": "1170db41-d4cf-47ba-9f66-19d782d199e0",
   "metadata": {},
   "source": [
    "# Discard"
   ]
  },
  {
   "cell_type": "markdown",
   "id": "2f4b1e24-1388-412c-9798-7a735c9ed36b",
   "metadata": {},
   "source": [
    "### It Removes an element elem from the set if it is a member. If the element is not a member, do nothing."
   ]
  },
  {
   "cell_type": "code",
   "execution_count": 26,
   "id": "c124cbc0-d6dc-4f7d-9e19-327233969ec6",
   "metadata": {},
   "outputs": [
    {
     "data": {
      "text/plain": [
       "{1, 2, 3, 4, 5, 6, 7, 8}"
      ]
     },
     "execution_count": 26,
     "metadata": {},
     "output_type": "execute_result"
    }
   ],
   "source": [
    "my_set = {1,2,3,4,5,6,7,8}\n",
    "my_set"
   ]
  },
  {
   "cell_type": "code",
   "execution_count": 28,
   "id": "43f53248-8dd6-4f09-9163-2233f7fa1335",
   "metadata": {},
   "outputs": [
    {
     "data": {
      "text/plain": [
       "{1, 2, 3, 5, 6, 7, 8}"
      ]
     },
     "execution_count": 28,
     "metadata": {},
     "output_type": "execute_result"
    }
   ],
   "source": [
    "my_set.discard(4)\n",
    "my_set"
   ]
  }
 ],
 "metadata": {
  "kernelspec": {
   "display_name": "Python 3 (ipykernel)",
   "language": "python",
   "name": "python3"
  },
  "language_info": {
   "codemirror_mode": {
    "name": "ipython",
    "version": 3
   },
   "file_extension": ".py",
   "mimetype": "text/x-python",
   "name": "python",
   "nbconvert_exporter": "python",
   "pygments_lexer": "ipython3",
   "version": "3.11.7"
  }
 },
 "nbformat": 4,
 "nbformat_minor": 5
}
